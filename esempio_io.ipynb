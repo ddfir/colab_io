{
  "nbformat": 4,
  "nbformat_minor": 0,
  "metadata": {
    "colab": {
      "name": "esempio.ipynb",
      "provenance": [],
      "toc_visible": true
    },
    "kernelspec": {
      "name": "python3",
      "display_name": "Python 3"
    }
  },
  "cells": [
    {
      "cell_type": "markdown",
      "metadata": {
        "id": "BC0SPmvK46L_",
        "colab_type": "text"
      },
      "source": [
        "# Load the Pandas libraries with alias 'pd'  and read data from file"
      ]
    },
    {
      "cell_type": "code",
      "metadata": {
        "id": "1ZVj_sC84b9Q",
        "colab_type": "code",
        "colab": {}
      },
      "source": [
        "import pandas as pd "
      ],
      "execution_count": 0,
      "outputs": []
    },
    {
      "cell_type": "markdown",
      "metadata": {
        "id": "0RZKmMpw5JQC",
        "colab_type": "text"
      },
      "source": [
        "\n",
        "# Read data from file 'filename.csv' \n",
        "\n"
      ]
    },
    {
      "cell_type": "code",
      "metadata": {
        "id": "btZ-Luts5NDT",
        "colab_type": "code",
        "colab": {}
      },
      "source": [
        "# Read data from file 'people.csv' \n",
        "# (in the same directory that your python process is based)\n",
        "# Control delimiters, rows, column names with read_csv (see later) \n",
        "\n",
        "url = 'https://raw.githubusercontent.com/ddfir/colab_io/master/people.csv?token=ABVYEUR3URHKL3M2I7NWG2254ZWKU'\n",
        "data = pd.read_csv(url) "
      ],
      "execution_count": 0,
      "outputs": []
    },
    {
      "cell_type": "markdown",
      "metadata": {
        "id": "UP9sbAxZ4zsJ",
        "colab_type": "text"
      },
      "source": [
        "# Preview the first 5 lines of the loaded data "
      ]
    },
    {
      "cell_type": "code",
      "metadata": {
        "id": "auuuutxZ4zUW",
        "colab_type": "code",
        "outputId": "224bff3e-841c-492b-9757-07e32f337d68",
        "colab": {
          "base_uri": "https://localhost:8080/",
          "height": 206
        }
      },
      "source": [
        "data.head()"
      ],
      "execution_count": 4,
      "outputs": [
        {
          "output_type": "execute_result",
          "data": {
            "text/html": [
              "<div>\n",
              "<style scoped>\n",
              "    .dataframe tbody tr th:only-of-type {\n",
              "        vertical-align: middle;\n",
              "    }\n",
              "\n",
              "    .dataframe tbody tr th {\n",
              "        vertical-align: top;\n",
              "    }\n",
              "\n",
              "    .dataframe thead th {\n",
              "        text-align: right;\n",
              "    }\n",
              "</style>\n",
              "<table border=\"1\" class=\"dataframe\">\n",
              "  <thead>\n",
              "    <tr style=\"text-align: right;\">\n",
              "      <th></th>\n",
              "      <th>John</th>\n",
              "      <th>Doe</th>\n",
              "      <th>120 jefferson st.</th>\n",
              "      <th>Riverside</th>\n",
              "      <th>NJ</th>\n",
              "      <th>08075</th>\n",
              "    </tr>\n",
              "  </thead>\n",
              "  <tbody>\n",
              "    <tr>\n",
              "      <th>0</th>\n",
              "      <td>Jack</td>\n",
              "      <td>McGinnis</td>\n",
              "      <td>220 hobo Av.</td>\n",
              "      <td>Phila</td>\n",
              "      <td>PA</td>\n",
              "      <td>9119</td>\n",
              "    </tr>\n",
              "    <tr>\n",
              "      <th>1</th>\n",
              "      <td>John \"Da Man\"</td>\n",
              "      <td>Repici</td>\n",
              "      <td>120 Jefferson St.</td>\n",
              "      <td>Riverside</td>\n",
              "      <td>NJ</td>\n",
              "      <td>8075</td>\n",
              "    </tr>\n",
              "    <tr>\n",
              "      <th>2</th>\n",
              "      <td>Stephen</td>\n",
              "      <td>Tyler</td>\n",
              "      <td>7452 Terrace \"At the Plaza\" road</td>\n",
              "      <td>SomeTown</td>\n",
              "      <td>SD</td>\n",
              "      <td>91234</td>\n",
              "    </tr>\n",
              "    <tr>\n",
              "      <th>3</th>\n",
              "      <td>NaN</td>\n",
              "      <td>Blankman</td>\n",
              "      <td>NaN</td>\n",
              "      <td>SomeTown</td>\n",
              "      <td>SD</td>\n",
              "      <td>298</td>\n",
              "    </tr>\n",
              "    <tr>\n",
              "      <th>4</th>\n",
              "      <td>Joan \"the bone\", Anne</td>\n",
              "      <td>Jet</td>\n",
              "      <td>9th, at Terrace plc</td>\n",
              "      <td>Desert City</td>\n",
              "      <td>CO</td>\n",
              "      <td>123</td>\n",
              "    </tr>\n",
              "  </tbody>\n",
              "</table>\n",
              "</div>"
            ],
            "text/plain": [
              "                    John       Doe  ...   NJ  08075\n",
              "0                   Jack  McGinnis  ...   PA   9119\n",
              "1          John \"Da Man\"    Repici  ...   NJ   8075\n",
              "2                Stephen     Tyler  ...   SD  91234\n",
              "3                    NaN  Blankman  ...   SD    298\n",
              "4  Joan \"the bone\", Anne       Jet  ...   CO    123\n",
              "\n",
              "[5 rows x 6 columns]"
            ]
          },
          "metadata": {
            "tags": []
          },
          "execution_count": 4
        }
      ]
    }
  ]
}